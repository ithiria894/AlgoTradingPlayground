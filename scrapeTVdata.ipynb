{
 "cells": [
  {
   "cell_type": "code",
   "execution_count": null,
   "metadata": {},
   "outputs": [],
   "source": [
    "<div class=\"title-l31H9iuA\">AHPExtreme [Trendoscope]</div>\n",
    "<svg xmlns=\"http://www.w3.org/2000/svg\" viewBox=\"0 0 18 18\" width=\"18\" height=\"18\"><path fill=\"currentColor\" fill-rule=\"evenodd\" d=\"m3.14 9 2.72-5h6.28l2.72 5-2.72 5H5.86L3.14 9Zm2.13-6h7.46L16 9l-3.27 6H5.27L2 9l3.27-6Zm5.37 6A1.57 1.57 0 1 1 7.5 9a1.57 1.57 0 0 1 3.14 0Zm1 0A2.57 2.57 0 1 1 6.5 9a2.57 2.57 0 0 1 5.14 0Z\"></path></svg>\n"
   ]
  }
 ],
 "metadata": {
  "language_info": {
   "name": "python"
  }
 },
 "nbformat": 4,
 "nbformat_minor": 2
}
