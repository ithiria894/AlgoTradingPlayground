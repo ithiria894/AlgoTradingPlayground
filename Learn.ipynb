{
 "cells": [
  {
   "cell_type": "code",
   "execution_count": 2,
   "metadata": {},
   "outputs": [
    {
     "name": "stdout",
     "output_type": "stream",
     "text": [
      "The price change is 782\n",
      "The price change percentage is 1.2411910354898101\n"
     ]
    }
   ],
   "source": [
    "start_price=63004\n",
    "end_price=63786\n",
    "price_change=end_price-start_price\n",
    "price_change_percent=(price_change/start_price)*100\n",
    "print(\"The price change is\",price_change)\n",
    "print(\"The price change percentage is\",price_change_percent)"
   ]
  },
  {
   "cell_type": "code",
   "execution_count": 7,
   "metadata": {},
   "outputs": [
    {
     "name": "stdout",
     "output_type": "stream",
     "text": [
      "初始资金：10 美元\n",
      "初始资金：78.0 港币\n",
      "当前价格：11 美元\n",
      "上涨或下跌的百分比：9.090909090909092%\n",
      "目标和当前价格之间的差值: 1\n",
      "目标价格: 12\n",
      "杠杆倍数：100\n",
      "杠杆后的可用资金: 1000\n",
      "仓位价值: 90.9090909090909\n",
      "保证金: 0.9090909090909091\n",
      "盈利：90.9090909090909 美元\n",
      "盈利：709.090909090909 港币\n",
      "盈利/亏损相对本金的百分比: 909.090909090909%\n",
      "爆仓价格：10.89 美元\n",
      "爆仓百分比：-1.0%\n"
     ]
    }
   ],
   "source": [
    "def calculate_profit_and_liquidation(initial_capital, current_price, percentage_change, target_price, leverage):\n",
    "    # 计算杠杆后的可用资金\n",
    "    effective_capital = initial_capital * leverage\n",
    "\n",
    "    # 如果目标价格未提供，则根据当前价格和百分比变化计算目标价格\n",
    "    if target_price is None:\n",
    "        target_price = current_price * (1 + percentage_change / 100)\n",
    "    else:\n",
    "        # 如果目标价格提供了，则计算百分比变化\n",
    "        percentage_change = ((target_price - current_price) / current_price) * 100\n",
    "\n",
    "    # 计算目标价格和当前价格之间的差值\n",
    "    price_difference = target_price - current_price\n",
    "\n",
    "\n",
    "    # 计算目标价格下的仓位价值\n",
    "    position_value = effective_capital / current_price\n",
    "\n",
    "    # 计算保证金\n",
    "    margin_ratio = 1 / leverage\n",
    "    margin = position_value * margin_ratio\n",
    "\n",
    "    # 计算盈利或亏损\n",
    "    profit_loss = position_value * (target_price - current_price)\n",
    "\n",
    "    # 计算盈利或亏损相对本金的百分比\n",
    "    profit_loss_percentage = (profit_loss / initial_capital) * 100\n",
    "\n",
    "    # 计算爆仓价格\n",
    "    liquidation_price = current_price - (current_price / leverage)\n",
    "\n",
    "    # 计算爆仓百分比\n",
    "    liquidation_percentage = -1 / leverage\n",
    "\n",
    "    # 打印结果\n",
    "    print(f\"初始资金：{initial_capital} 美元\")\n",
    "    # in hkd\n",
    "    print(f\"初始资金：{initial_capital * 7.8} 港币\")\n",
    "    print(f\"当前价格：{current_price} 美元\")\n",
    "    print(f\"上涨或下跌的百分比：{percentage_change}%\")\n",
    "    print(f\"目标和当前价格之间的差值: {price_difference}\")\n",
    "    print(f\"目标价格: {target_price}\")\n",
    "    print(f\"杠杆倍数：{leverage}\")\n",
    "    print(f\"杠杆后的可用资金: {effective_capital}\")\n",
    "    print(f\"仓位价值: {position_value}\")\n",
    "    print(f\"保证金: {margin}\")\n",
    "    if profit_loss > 0:\n",
    "        print(f\"盈利：{profit_loss} 美元\")\n",
    "        #hkd\n",
    "        print(f\"盈利：{profit_loss * 7.8} 港币\")\n",
    "    elif profit_loss < 0:\n",
    "        print(f\"亏损：{profit_loss} 美元\")\n",
    "        #hkd\n",
    "        print(f\"亏损：{profit_loss * 7.8} 港币\")\n",
    "    else:\n",
    "        print(\"无盈亏\")\n",
    "    print(f\"盈利/亏损相对本金的百分比: {profit_loss_percentage}%\")\n",
    "    print(f\"爆仓价格：{liquidation_price} 美元\")\n",
    "    print(f\"爆仓百分比：{liquidation_percentage * 100}%\")\n",
    "\n",
    "    return {\n",
    "        \"initial_capital\": initial_capital,\n",
    "        \"current_price\": current_price,\n",
    "        \"percentage_change\": percentage_change,\n",
    "        \"target_price\": target_price,\n",
    "        \"leverage\": leverage,\n",
    "        \"effective_capital\": effective_capital,\n",
    "        \"position_value\": position_value,\n",
    "        \"margin\": margin,\n",
    "        \"profit_loss\": profit_loss,\n",
    "        \"profit_loss_percentage\": profit_loss_percentage,\n",
    "        \"liquidation_price\": liquidation_price,\n",
    "        \"liquidation_percentage\": liquidation_percentage\n",
    "    }\n",
    "\n",
    "# 输入参数\n",
    "initial_capital = 10\n",
    "current_price = 11\n",
    "percentage_change = 200  # Example percentage change\n",
    "target_price = 12  # You can set this to None if you want the function to calculate it based on percentage_change\n",
    "leverage = 100\n",
    "\n",
    "# 计算盈利/亏损、爆仓价格、爆仓百分比\n",
    "result = calculate_profit_and_liquidation(initial_capital, current_price, percentage_change, target_price, leverage)\n"
   ]
  },
  {
   "cell_type": "code",
   "execution_count": 286,
   "metadata": {},
   "outputs": [
    {
     "ename": "SyntaxError",
     "evalue": "invalid decimal literal (1432305659.py, line 1)",
     "output_type": "error",
     "traceback": [
      "\u001b[1;36m  Cell \u001b[1;32mIn[286], line 1\u001b[1;36m\u001b[0m\n\u001b[1;33m    1000x100\u001b[0m\n\u001b[1;37m       ^\u001b[0m\n\u001b[1;31mSyntaxError\u001b[0m\u001b[1;31m:\u001b[0m invalid decimal literal\n"
     ]
    }
   ],
   "source": [
    "1000x100\n",
    "100000x7.8\n"
   ]
  },
  {
   "cell_type": "code",
   "execution_count": 42,
   "metadata": {},
   "outputs": [
    {
     "name": "stdout",
     "output_type": "stream",
     "text": [
      "初始资金：250000 美元\n",
      "初始资金：1950000.0 港币\n",
      "当前价格：60000 美元\n",
      "上涨或下跌的百分比：33.33333333333333%\n",
      "目标和当前价格之间的差值: 20000\n",
      "目标价格: 80000\n",
      "杠杆倍数：5\n",
      "杠杆后的可用资金: 1250000\n",
      "目标价格下的仓位价值: 20.833333333333332\n",
      "保证金: 4.166666666666667\n",
      "盈利：416666.6666666666 美元\n",
      "盈利：3249999.9999999995 港币\n",
      "盈利/亏损相对本金的百分比: 166.66666666666666%\n",
      "爆仓价格：48000.0 美元\n",
      "爆仓百分比：-20.0%\n"
     ]
    }
   ],
   "source": [
    "# 输入参数\n",
    "initial_capital = 250000\n",
    "current_price = 60000\n",
    "percentage_change = 1  # Example percentage change\n",
    "target_price =80000  # You can set this to None if you want the function to calculate it based on percentage_change\n",
    "leverage = 5\n",
    "# 计算盈利/亏损、爆仓价格、爆仓百分比\n",
    "result = calculate_profit_and_liquidation(initial_capital, current_price, percentage_change, target_price, leverage)"
   ]
  },
  {
   "cell_type": "code",
   "execution_count": null,
   "metadata": {},
   "outputs": [],
   "source": [
    "但是持倉比例10%，100x\n",
    "持倉比例20%，50x\n",
    "持倉比例50%，20x\n",
    "持倉比例100%，10x\n",
    "\n"
   ]
  },
  {
   "cell_type": "code",
   "execution_count": 334,
   "metadata": {},
   "outputs": [
    {
     "name": "stdout",
     "output_type": "stream",
     "text": [
      "初始资金：300 美元\n",
      "初始资金：2340.0 港币\n",
      "当前价格：0.05888 美元\n",
      "上涨或下跌的百分比：1000%\n",
      "目标和当前价格之间的差值: 0.5888\n",
      "目标价格: 0.64768\n",
      "杠杆倍数：6\n",
      "杠杆后的可用资金: 1800\n",
      "目标价格下的仓位价值: 30570.652173913044\n",
      "保证金: 5095.108695652174\n",
      "盈利：18000.0 美元\n",
      "盈利：140400.0 港币\n",
      "盈利/亏损相对本金的百分比: 6000.0%\n",
      "爆仓价格：0.04906666666666667 美元\n",
      "爆仓百分比：-16.666666666666664%\n"
     ]
    }
   ],
   "source": [
    "# 输入参数\n",
    "initial_capital = 300\n",
    "current_price = 0.05888\n",
    "percentage_change = 1000  # Example percentage change\n",
    "target_price = None  # You can set this to None if you want the function to calculate it based on percentage_change\n",
    "leverage = 6\n",
    "\n",
    "# 计算盈利/亏损、爆仓价格、爆仓百分比\n",
    "result = calculate_profit_and_liquidation(initial_capital, current_price, percentage_change, target_price, leverage)"
   ]
  },
  {
   "cell_type": "code",
   "execution_count": 2,
   "metadata": {},
   "outputs": [
    {
     "name": "stdout",
     "output_type": "stream",
     "text": [
      "初始资金：100 美元\n",
      "初始资金：780.0 港币\n",
      "当前价格：0.02 美元\n",
      "上涨或下跌的百分比：500%\n",
      "目标和当前价格之间的差值: 0.09999999999999999\n",
      "目标价格: 0.12\n",
      "杠杆倍数：50\n",
      "杠杆后的可用资金: 5000\n",
      "目标价格下的仓位价值: 250000.0\n",
      "保证金: 5000.0\n",
      "盈利：24999.999999999996 美元\n",
      "盈利：194999.99999999997 港币\n",
      "盈利/亏损相对本金的百分比: 24999.999999999996%\n",
      "爆仓价格：0.0196 美元\n",
      "爆仓百分比：-2.0%\n"
     ]
    }
   ],
   "source": [
    "# 输入参数\n",
    "initial_capital = 100\n",
    "current_price = 0.02\n",
    "percentage_change =500   # Example percentage change\n",
    "target_price = None  # You can set this to None if you want the function to calculate it based on percentage_change\n",
    "leverage = 50\n",
    "\n",
    "# 计算盈利/亏损、爆仓价格、爆仓百分比\n",
    "result = calculate_profit_and_liquidation(initial_capital, current_price, percentage_change, target_price, leverage)"
   ]
  },
  {
   "cell_type": "code",
   "execution_count": 320,
   "metadata": {},
   "outputs": [
    {
     "data": {
      "text/plain": [
       "3562.6166666666663"
      ]
     },
     "execution_count": 320,
     "metadata": {},
     "output_type": "execute_result"
    }
   ],
   "source": [
    "\n",
    "# 起始保证金=1520\n",
    "leverage =                                                                                              \n",
    "入场价格=3623\n",
    "# 合约数量=起始保证金x杠杆/入场价格\n",
    "# 合约数量=(起始保证金*leverage)/入场价格\n",
    "# print(合约数量)\n",
    "imr=1/leverage\n",
    "mmr=0.005\n",
    "LiqPrice=入场价格*(1-imr)\n",
    "LiqPrice\n"
   ]
  },
  {
   "cell_type": "code",
   "execution_count": null,
   "metadata": {},
   "outputs": [],
   "source": [
    "BTC数量=2\n",
    "价格=10000\n",
    "MMR=0.005\n",
    "可用餘額=2,000\n",
    "維持保證金 = BTC数量*价格*MMR\n",
    "可持續虧損總額 = 可用餘額-維持保證金\n",
    "\n"
   ]
  },
  {
   "cell_type": "code",
   "execution_count": null,
   "metadata": {},
   "outputs": [],
   "source": [
    "# 合约数量=起始保证金x杠杆/入场价格\n",
    "# 合约数量=(起始保证金*leverage)/入场价格\n",
    "# print(合约数量)"
   ]
  },
  {
   "cell_type": "code",
   "execution_count": 321,
   "metadata": {},
   "outputs": [
    {
     "ename": "NameError",
     "evalue": "name '杠杆倍数' is not defined",
     "output_type": "error",
     "traceback": [
      "\u001b[1;31m---------------------------------------------------------------------------\u001b[0m",
      "\u001b[1;31mNameError\u001b[0m                                 Traceback (most recent call last)",
      "Cell \u001b[1;32mIn[321], line 4\u001b[0m\n\u001b[0;32m      2\u001b[0m 起始保证金\n\u001b[0;32m      3\u001b[0m 入场价格\n\u001b[1;32m----> 4\u001b[0m \u001b[43m杠杆倍数\u001b[49m\n\u001b[0;32m      5\u001b[0m 合约数量\u001b[38;5;241m=\u001b[39m(起始保证金\u001b[38;5;241m*\u001b[39mleverage)\u001b[38;5;241m/\u001b[39m入场价格\n",
      "\u001b[1;31mNameError\u001b[0m: name '杠杆倍数' is not defined"
     ]
    }
   ],
   "source": [
    "# 初始保证金 = 仓位数量 * 入场价格/ 杠杆倍数\n",
    "起始保证金\n",
    "入场价格\n",
    "杠杆倍数\n",
    "合约数量=(起始保证金*leverage)/入场价格"
   ]
  },
  {
   "cell_type": "code",
   "execution_count": null,
   "metadata": {},
   "outputs": [],
   "source": [
    "# LP (Long) = Entry Price - [(Available Balance + Initial Margin - Maintenance Margin)/Net Position Size]\n"
   ]
  },
  {
   "cell_type": "code",
   "execution_count": null,
   "metadata": {},
   "outputs": [],
   "source": [
    "# 输入参数\n",
    "Total_capital: 1000\n",
    "持仓比例 = 10%\n",
    "# 保证金=1000*10%=100\n",
    "保证金 = Total_capital * 持仓比例\n",
    "current_price = 0.7\n",
    "\n",
    "leverage = 50\n",
    "预估强平价格 = 0.64896\n"
   ]
  },
  {
   "cell_type": "code",
   "execution_count": 308,
   "metadata": {},
   "outputs": [
    {
     "name": "stdout",
     "output_type": "stream",
     "text": [
      "初始资金：100 美元\n",
      "初始资金：780.0 港币\n",
      "当前价格：3610 美元\n",
      "上涨或下跌的百分比：2.4930747922437675%\n",
      "目标和当前价格之间的差值: 90\n",
      "目标价格: 3700\n",
      "杠杆倍数：10\n",
      "杠杆后的可用资金: 1000\n",
      "目标价格下的仓位价值: 0.2770083102493075\n",
      "保证金: 0.02770083102493075\n",
      "盈利：24.930747922437675 美元\n",
      "盈利：194.45983379501385 港币\n",
      "盈利/亏损相对本金的百分比: 24.930747922437675%\n",
      "爆仓价格：3249.0 美元\n",
      "爆仓百分比：-10.0%\n"
     ]
    }
   ],
   "source": [
    "# 计算盈利/亏损、爆仓价格、爆仓百分比\n",
    "result = calculate_profit_and_liquidation(initial_capital=100, current_price=3610, percentage_change=1, target_price=3700, leverage=10)"
   ]
  },
  {
   "cell_type": "code",
   "execution_count": 345,
   "metadata": {},
   "outputs": [
    {
     "name": "stdout",
     "output_type": "stream",
     "text": [
      "初始资金：300 美元\n",
      "初始资金：2340.0 港币\n",
      "当前价格：3614 美元\n",
      "上涨或下跌的百分比：2.2412838959601546%\n",
      "目标和当前价格之间的差值: 81\n",
      "目标价格: 3695\n",
      "杠杆倍数：20\n",
      "杠杆后的可用资金: 6000\n",
      "目标价格下的仓位价值: 1.6602102933038185\n",
      "保证金: 0.08301051466519094\n",
      "盈利：134.4770337576093 美元\n",
      "盈利：1048.9208633093524 港币\n",
      "盈利/亏损相对本金的百分比: 44.8256779192031%\n",
      "爆仓价格：3433.3 美元\n",
      "爆仓百分比：-5.0%\n"
     ]
    }
   ],
   "source": [
    "# 计算盈利/亏损、爆仓价格、爆仓百分比\n",
    "result = calculate_profit_and_liquidation(initial_capital=300, current_price=3614, percentage_change=800, target_price=3695, leverage=20)"
   ]
  },
  {
   "cell_type": "code",
   "execution_count": null,
   "metadata": {},
   "outputs": [],
   "source": [
    "25x 做多 "
   ]
  },
  {
   "cell_type": "markdown",
   "metadata": {},
   "source": [
    "## SHORT\n"
   ]
  },
  {
   "cell_type": "markdown",
   "metadata": {},
   "source": []
  },
  {
   "cell_type": "code",
   "execution_count": 1,
   "metadata": {},
   "outputs": [
    {
     "name": "stdout",
     "output_type": "stream",
     "text": [
      "初始资金：100 美元\n",
      "初始资金：780.0 港元\n",
      "当前价格：1.2461 美元\n",
      "上涨或下跌的百分比：0.746328545060596%\n",
      "杠杆倍数：50\n",
      "杠杆后的订单价值: 5000\n",
      "****目标价格: 1.2554\n",
      "盈利/亏损: -37.316427253029794美元\n",
      "盈利/亏损: -291.0681325736324港元\n",
      "盈利/亏损相对本金的百分比: -37.32%\n",
      "爆仓价格: 1.27\n",
      "爆仓百分比: 2.00%\n"
     ]
    }
   ],
   "source": [
    "def calculate_profit_loss_short(initial_capital, current_price, percentage_change, target_price, leverage):\n",
    "    # 计算杠杆后的可用资金\n",
    "    effective_capital = initial_capital * leverage\n",
    "    \n",
    "    # 如果目标价格未提供，则根据当前价格和百分比变化计算目标价格\n",
    "    if target_price is None:\n",
    "        target_price = current_price * (1 + percentage_change / 100)\n",
    "    else:\n",
    "        # 如果目标价格提供了，则计算百分比变化\n",
    "        percentage_change = ((target_price - current_price) / current_price) * 100\n",
    "    # 计算目标价格下的仓位价值\n",
    "    position_value = effective_capital / current_price\n",
    "    \n",
    "    # 计算保证金\n",
    "    margin_ratio = 1 / leverage\n",
    "    margin = position_value * margin_ratio\n",
    "    \n",
    "    # 计算盈利或亏损\n",
    "    profit_loss = position_value * (current_price - target_price)\n",
    "    \n",
    "    # 计算盈利或亏损相对本金的百分比\n",
    "    profit_loss_percentage = (profit_loss / initial_capital) * 100\n",
    "    \n",
    "    # 计算爆仓价格\n",
    "    liquidation_price = current_price + (current_price / leverage)\n",
    "    \n",
    "    # 计算爆仓百分比\n",
    "    liquidation_percentage = 1 / leverage\n",
    "\n",
    "    return {\n",
    "        \"effective_capital\": effective_capital,\n",
    "        \"target_price\": target_price,\n",
    "        \"position_value\": position_value,\n",
    "        \"margin\": margin,\n",
    "        \"profit_loss\": profit_loss,\n",
    "        \"profit_loss_percentage\": profit_loss_percentage,\n",
    "        \"liquidation_price\": liquidation_price,\n",
    "        \"liquidation_percentage\": liquidation_percentage,\n",
    "        \"percentage_change\": percentage_change,\n",
    "    }\n",
    "\n",
    "# 输入参数\n",
    "initial_capital = 100\n",
    "current_price = 1.2461\n",
    "percentage_change = -1\n",
    "target_price =1.2554 # You can set this to None if you want the function to calculate it based on percentage_change\n",
    "leverage = 50\n",
    "\n",
    "print(f\"初始资金：{initial_capital} 美元\")\n",
    "#换算成港元\n",
    "print(f\"初始资金：{initial_capital*7.8} 港元\")\n",
    "print(f\"当前价格：{current_price} 美元\")\n",
    "result = calculate_profit_loss_short(initial_capital, current_price, percentage_change, target_price, leverage)\n",
    "print(f\"上涨或下跌的百分比：{result['percentage_change']}%\")\n",
    "print(f\"杠杆倍数：{leverage}\")\n",
    "print(f\"杠杆后的订单价值: {result['effective_capital']}\")\n",
    "print(f\"****目标价格: {result['target_price']}\")\n",
    "# print(f\"目标价格下的仓位价值: {result['position_value']}\")\n",
    "# print(f\"保证金: {result['margin']}\")\n",
    "print(f\"盈利/亏损: {result['profit_loss']}美元\")\n",
    "#换算成港元\n",
    "print(f\"盈利/亏损: {result['profit_loss']*7.8}港元\")\n",
    "print(f\"盈利/亏损相对本金的百分比: {result['profit_loss_percentage']:.2f}%\")\n",
    "print(f\"爆仓价格: {result['liquidation_price']:.2f}\")\n",
    "print(f\"爆仓百分比: {result['liquidation_percentage'] * 100:.2f}%\")\n"
   ]
  },
  {
   "cell_type": "code",
   "execution_count": null,
   "metadata": {},
   "outputs": [],
   "source": []
  }
 ],
 "metadata": {
  "kernelspec": {
   "display_name": "Python 3",
   "language": "python",
   "name": "python3"
  },
  "language_info": {
   "codemirror_mode": {
    "name": "ipython",
    "version": 3
   },
   "file_extension": ".py",
   "mimetype": "text/x-python",
   "name": "python",
   "nbconvert_exporter": "python",
   "pygments_lexer": "ipython3",
   "version": "3.12.3"
  }
 },
 "nbformat": 4,
 "nbformat_minor": 2
}
