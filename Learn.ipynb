{
 "cells": [
  {
   "cell_type": "code",
   "execution_count": 65,
   "metadata": {},
   "outputs": [
    {
     "name": "stdout",
     "output_type": "stream",
     "text": [
      "The price change is 782\n",
      "The price change percentage is 1.2411910354898101\n"
     ]
    }
   ],
   "source": [
    "start_price=63004\n",
    "end_price=63786\n",
    "price_change=end_price-start_price\n",
    "price_change_percent=(price_change/start_price)*100\n",
    "print(\"The price change is\",price_change)\n",
    "print(\"The price change percentage is\",price_change_percent)"
   ]
  },
  {
   "cell_type": "code",
   "execution_count": 300,
   "metadata": {},
   "outputs": [
    {
     "name": "stdout",
     "output_type": "stream",
     "text": [
      "初始资金：1000 美元\n",
      "初始资金：7800.0 港币\n",
      "当前价格：0.1 美元\n",
      "上涨或下跌的百分比：200%\n",
      "目标和当前价格之间的差值: 0.20000000000000004\n",
      "目标价格: 0.30000000000000004\n",
      "杠杆倍数：2\n",
      "杠杆后的可用资金: 2000\n",
      "目标价格下的仓位价值: 20000.0\n",
      "保证金: 10000.0\n",
      "盈利：4000.000000000001 美元\n",
      "盈利：31200.000000000007 港币\n",
      "盈利/亏损相对本金的百分比: 400.0000000000001%\n",
      "爆仓价格：0.05 美元\n",
      "爆仓百分比：-50.0%\n"
     ]
    }
   ],
   "source": [
    "def calculate_profit_and_liquidation(initial_capital, current_price, percentage_change, target_price, leverage):\n",
    "    # 计算杠杆后的可用资金\n",
    "    effective_capital = initial_capital * leverage\n",
    "\n",
    "    # 如果目标价格未提供，则根据当前价格和百分比变化计算目标价格\n",
    "    if target_price is None:\n",
    "        target_price = current_price * (1 + percentage_change / 100)\n",
    "    else:\n",
    "        # 如果目标价格提供了，则计算百分比变化\n",
    "        percentage_change = ((target_price - current_price) / current_price) * 100\n",
    "\n",
    "    # 计算目标价格和当前价格之间的差值\n",
    "    price_difference = target_price - current_price\n",
    "\n",
    "\n",
    "    # 计算目标价格下的仓位价值\n",
    "    position_value = effective_capital / current_price\n",
    "\n",
    "    # 计算保证金\n",
    "    margin_ratio = 1 / leverage\n",
    "    margin = position_value * margin_ratio\n",
    "\n",
    "    # 计算盈利或亏损\n",
    "    profit_loss = position_value * (target_price - current_price)\n",
    "\n",
    "    # 计算盈利或亏损相对本金的百分比\n",
    "    profit_loss_percentage = (profit_loss / initial_capital) * 100\n",
    "\n",
    "    # 计算爆仓价格\n",
    "    liquidation_price = current_price - (current_price / leverage)\n",
    "\n",
    "    # 计算爆仓百分比\n",
    "    liquidation_percentage = -1 / leverage\n",
    "\n",
    "    # 打印结果\n",
    "    print(f\"初始资金：{initial_capital} 美元\")\n",
    "    # in hkd\n",
    "    print(f\"初始资金：{initial_capital * 7.8} 港币\")\n",
    "    print(f\"当前价格：{current_price} 美元\")\n",
    "    print(f\"上涨或下跌的百分比：{percentage_change}%\")\n",
    "    print(f\"目标和当前价格之间的差值: {price_difference}\")\n",
    "    print(f\"目标价格: {target_price}\")\n",
    "    print(f\"杠杆倍数：{leverage}\")\n",
    "    print(f\"杠杆后的可用资金: {effective_capital}\")\n",
    "    print(f\"目标价格下的仓位价值: {position_value}\")\n",
    "    print(f\"保证金: {margin}\")\n",
    "    if profit_loss > 0:\n",
    "        print(f\"盈利：{profit_loss} 美元\")\n",
    "        #hkd\n",
    "        print(f\"盈利：{profit_loss * 7.8} 港币\")\n",
    "    elif profit_loss < 0:\n",
    "        print(f\"亏损：{profit_loss} 美元\")\n",
    "        #hkd\n",
    "        print(f\"亏损：{profit_loss * 7.8} 港币\")\n",
    "    else:\n",
    "        print(\"无盈亏\")\n",
    "    print(f\"盈利/亏损相对本金的百分比: {profit_loss_percentage}%\")\n",
    "    print(f\"爆仓价格：{liquidation_price} 美元\")\n",
    "    print(f\"爆仓百分比：{liquidation_percentage * 100}%\")\n",
    "\n",
    "    return {\n",
    "        \"initial_capital\": initial_capital,\n",
    "        \"current_price\": current_price,\n",
    "        \"percentage_change\": percentage_change,\n",
    "        \"target_price\": target_price,\n",
    "        \"leverage\": leverage,\n",
    "        \"effective_capital\": effective_capital,\n",
    "        \"position_value\": position_value,\n",
    "        \"margin\": margin,\n",
    "        \"profit_loss\": profit_loss,\n",
    "        \"profit_loss_percentage\": profit_loss_percentage,\n",
    "        \"liquidation_price\": liquidation_price,\n",
    "        \"liquidation_percentage\": liquidation_percentage\n",
    "    }\n",
    "\n",
    "# 输入参数\n",
    "initial_capital = 1000\n",
    "current_price = 0.1\n",
    "percentage_change = 200  # Example percentage change\n",
    "target_price = None  # You can set this to None if you want the function to calculate it based on percentage_change\n",
    "leverage = 2\n",
    "\n",
    "# 计算盈利/亏损、爆仓价格、爆仓百分比\n",
    "result = calculate_profit_and_liquidation(initial_capital, current_price, percentage_change, target_price, leverage)\n"
   ]
  },
  {
   "cell_type": "code",
   "execution_count": 286,
   "metadata": {},
   "outputs": [
    {
     "ename": "SyntaxError",
     "evalue": "invalid decimal literal (1432305659.py, line 1)",
     "output_type": "error",
     "traceback": [
      "\u001b[1;36m  Cell \u001b[1;32mIn[286], line 1\u001b[1;36m\u001b[0m\n\u001b[1;33m    1000x100\u001b[0m\n\u001b[1;37m       ^\u001b[0m\n\u001b[1;31mSyntaxError\u001b[0m\u001b[1;31m:\u001b[0m invalid decimal literal\n"
     ]
    }
   ],
   "source": [
    "1000x100\n",
    "100000x7.8\n"
   ]
  },
  {
   "cell_type": "code",
   "execution_count": 285,
   "metadata": {},
   "outputs": [
    {
     "name": "stdout",
     "output_type": "stream",
     "text": [
      "初始资金：1000 美元\n",
      "初始资金：7800.0 港币\n",
      "当前价格：0.6448 美元\n",
      "上涨或下跌的百分比：100%\n",
      "目标价格: 1.2896\n",
      "杠杆倍数：5\n",
      "杠杆后的可用资金: 5000\n",
      "目标价格下的仓位价值: 7754.342431761786\n",
      "保证金: 1550.8684863523574\n",
      "盈利：5000.0 美元\n",
      "盈利：39000.0 港币\n",
      "盈利/亏损相对本金的百分比: 500.0%\n",
      "爆仓价格：0.5158400000000001 美元\n",
      "爆仓百分比：-20.0%\n"
     ]
    }
   ],
   "source": [
    "# 输入参数\n",
    "initial_capital = 1000\n",
    "current_price = 0.64480\n",
    "percentage_change = 1  # Example percentage change\n",
    "target_price =None  # You can set this to None if you want the function to calculate it based on percentage_change\n",
    "leverage = 5\n",
    "# 计算盈利/亏损、爆仓价格、爆仓百分比\n",
    "result = calculate_profit_and_liquidation(initial_capital, current_price, percentage_change, target_price, leverage)"
   ]
  },
  {
   "cell_type": "code",
   "execution_count": null,
   "metadata": {},
   "outputs": [],
   "source": [
    "但是持倉比例10%，100x\n",
    "持倉比例20%，50x\n",
    "持倉比例50%，20x\n",
    "持倉比例100%，10x\n",
    "\n"
   ]
  },
  {
   "cell_type": "code",
   "execution_count": 304,
   "metadata": {},
   "outputs": [
    {
     "name": "stdout",
     "output_type": "stream",
     "text": [
      "初始资金：1500 美元\n",
      "初始资金：11700.0 港币\n",
      "当前价格：3623 美元\n",
      "上涨或下跌的百分比：2.1253105161468397%\n",
      "目标和当前价格之间的差值: 77\n",
      "目标价格: 3700\n",
      "杠杆倍数：60\n",
      "杠杆后的可用资金: 90000\n",
      "目标价格下的仓位价值: 24.841291747170853\n",
      "保证金: 0.41402152911951423\n",
      "盈利：1912.7794645321558 美元\n",
      "盈利：14919.679823350814 港币\n",
      "盈利/亏损相对本金的百分比: 127.51863096881037%\n",
      "爆仓价格：3562.616666666667 美元\n",
      "爆仓百分比：-1.6666666666666667%\n"
     ]
    }
   ],
   "source": [
    "# 输入参数\n",
    "initial_capital = 1500\n",
    "current_price = 3623\n",
    "percentage_change = 1  # Example percentage change\n",
    "target_price = 3700  # You can set this to None if you want the function to calculate it based on percentage_change\n",
    "leverage = 60\n",
    "\n",
    "# 计算盈利/亏损、爆仓价格、爆仓百分比\n",
    "result = calculate_profit_and_liquidation(initial_capital, current_price, percentage_change, target_price, leverage)"
   ]
  },
  {
   "cell_type": "code",
   "execution_count": 303,
   "metadata": {},
   "outputs": [
    {
     "name": "stdout",
     "output_type": "stream",
     "text": [
      "初始资金：457 美元\n",
      "初始资金：3564.6 港币\n",
      "当前价格：3610 美元\n",
      "上涨或下跌的百分比：2.4930747922437675%\n",
      "目标和当前价格之间的差值: 90\n",
      "目标价格: 3700\n",
      "杠杆倍数：60\n",
      "杠杆后的可用资金: 27420\n",
      "目标价格下的仓位价值: 7.595567867036011\n",
      "保证金: 0.1265927977839335\n",
      "盈利：683.601108033241 美元\n",
      "盈利：5332.08864265928 港币\n",
      "盈利/亏损相对本金的百分比: 149.58448753462602%\n",
      "爆仓价格：3549.8333333333335 美元\n",
      "爆仓百分比：-1.6666666666666667%\n"
     ]
    }
   ],
   "source": [
    "# 输入参数\n",
    "initial_capital = 457\n",
    "current_price = 3610\n",
    "percentage_change = 1  # Example percentage change\n",
    "target_price = 3700  # You can set this to None if you want the function to calculate it based on percentage_change\n",
    "leverage = 60\n",
    "\n",
    "# 计算盈利/亏损、爆仓价格、爆仓百分比\n",
    "result = calculate_profit_and_liquidation(initial_capital, current_price, percentage_change, target_price, leverage)"
   ]
  },
  {
   "cell_type": "code",
   "execution_count": null,
   "metadata": {},
   "outputs": [],
   "source": [
    "# 输入参数\n",
    "Total_capital: 1000\n",
    "持仓比例 = 10%\n",
    "保证金=1000*10%=100\n",
    "current_price = 0.7\n",
    "leverage = 50\n",
    "预估强平价格 = 0.64896\n"
   ]
  },
  {
   "cell_type": "code",
   "execution_count": 308,
   "metadata": {},
   "outputs": [
    {
     "name": "stdout",
     "output_type": "stream",
     "text": [
      "初始资金：100 美元\n",
      "初始资金：780.0 港币\n",
      "当前价格：3610 美元\n",
      "上涨或下跌的百分比：2.4930747922437675%\n",
      "目标和当前价格之间的差值: 90\n",
      "目标价格: 3700\n",
      "杠杆倍数：10\n",
      "杠杆后的可用资金: 1000\n",
      "目标价格下的仓位价值: 0.2770083102493075\n",
      "保证金: 0.02770083102493075\n",
      "盈利：24.930747922437675 美元\n",
      "盈利：194.45983379501385 港币\n",
      "盈利/亏损相对本金的百分比: 24.930747922437675%\n",
      "爆仓价格：3249.0 美元\n",
      "爆仓百分比：-10.0%\n"
     ]
    }
   ],
   "source": [
    "# 计算盈利/亏损、爆仓价格、爆仓百分比\n",
    "result = calculate_profit_and_liquidation(initial_capital=100, current_price=3610, percentage_change=1, target_price=3700, leverage=10)"
   ]
  },
  {
   "cell_type": "code",
   "execution_count": 309,
   "metadata": {},
   "outputs": [
    {
     "name": "stdout",
     "output_type": "stream",
     "text": [
      "初始资金：10 美元\n",
      "初始资金：78.0 港币\n",
      "当前价格：3610 美元\n",
      "上涨或下跌的百分比：2.4930747922437675%\n",
      "目标和当前价格之间的差值: 90\n",
      "目标价格: 3700\n",
      "杠杆倍数：100\n",
      "杠杆后的可用资金: 1000\n",
      "目标价格下的仓位价值: 0.2770083102493075\n",
      "保证金: 0.0027700831024930752\n",
      "盈利：24.930747922437675 美元\n",
      "盈利：194.45983379501385 港币\n",
      "盈利/亏损相对本金的百分比: 249.30747922437675%\n",
      "爆仓价格：3573.9 美元\n",
      "爆仓百分比：-1.0%\n"
     ]
    }
   ],
   "source": [
    "# 计算盈利/亏损、爆仓价格、爆仓百分比\n",
    "result = calculate_profit_and_liquidation(initial_capital=10, current_price=3610, percentage_change=1, target_price=3700, leverage=100)"
   ]
  },
  {
   "cell_type": "markdown",
   "metadata": {},
   "source": [
    "## SHORT"
   ]
  },
  {
   "cell_type": "markdown",
   "metadata": {},
   "source": []
  },
  {
   "cell_type": "code",
   "execution_count": 170,
   "metadata": {},
   "outputs": [
    {
     "name": "stdout",
     "output_type": "stream",
     "text": [
      "初始资金：636 美元\n",
      "初始资金：4960.8 港元\n",
      "当前价格：64276 美元\n",
      "上涨或下跌的百分比：-0.7996763955442157%\n",
      "杠杆倍数：10\n",
      "杠杆后的可用资金: 6360\n",
      "****目标价格: 63762\n",
      "盈利/亏损: 50.859418756612115美元\n",
      "盈利/亏损: 396.7034663015745港元\n",
      "盈利/亏损相对本金的百分比: 8.00%\n",
      "爆仓价格: 70703.60\n",
      "爆仓百分比: 10.00%\n"
     ]
    }
   ],
   "source": [
    "def calculate_profit_loss_short(initial_capital, current_price, percentage_change, target_price, leverage):\n",
    "    # 计算杠杆后的可用资金\n",
    "    effective_capital = initial_capital * leverage\n",
    "    \n",
    "    # 如果目标价格未提供，则根据当前价格和百分比变化计算目标价格\n",
    "    if target_price is None:\n",
    "        target_price = current_price * (1 + percentage_change / 100)\n",
    "    else:\n",
    "        # 如果目标价格提供了，则计算百分比变化\n",
    "        percentage_change = ((target_price - current_price) / current_price) * 100\n",
    "    # 计算目标价格下的仓位价值\n",
    "    position_value = effective_capital / current_price\n",
    "    \n",
    "    # 计算保证金\n",
    "    margin_ratio = 1 / leverage\n",
    "    margin = position_value * margin_ratio\n",
    "    \n",
    "    # 计算盈利或亏损\n",
    "    profit_loss = position_value * (current_price - target_price)\n",
    "    \n",
    "    # 计算盈利或亏损相对本金的百分比\n",
    "    profit_loss_percentage = (profit_loss / initial_capital) * 100\n",
    "    \n",
    "    # 计算爆仓价格\n",
    "    liquidation_price = current_price + (current_price / leverage)\n",
    "    \n",
    "    # 计算爆仓百分比\n",
    "    liquidation_percentage = 1 / leverage\n",
    "\n",
    "    return {\n",
    "        \"effective_capital\": effective_capital,\n",
    "        \"target_price\": target_price,\n",
    "        \"position_value\": position_value,\n",
    "        \"margin\": margin,\n",
    "        \"profit_loss\": profit_loss,\n",
    "        \"profit_loss_percentage\": profit_loss_percentage,\n",
    "        \"liquidation_price\": liquidation_price,\n",
    "        \"liquidation_percentage\": liquidation_percentage,\n",
    "        \"percentage_change\": percentage_change,\n",
    "    }\n",
    "\n",
    "# 输入参数\n",
    "initial_capital = 636\n",
    "current_price = 64276\n",
    "percentage_change = -1\n",
    "target_price = 63762  # You can set this to None if you want the function to calculate it based on percentage_change\n",
    "leverage = 10\n",
    "\n",
    "print(f\"初始资金：{initial_capital} 美元\")\n",
    "#换算成港元\n",
    "print(f\"初始资金：{initial_capital*7.8} 港元\")\n",
    "print(f\"当前价格：{current_price} 美元\")\n",
    "result = calculate_profit_loss_short(initial_capital, current_price, percentage_change, target_price, leverage)\n",
    "print(f\"上涨或下跌的百分比：{result['percentage_change']}%\")\n",
    "print(f\"杠杆倍数：{leverage}\")\n",
    "print(f\"杠杆后的可用资金: {result['effective_capital']}\")\n",
    "print(f\"****目标价格: {result['target_price']}\")\n",
    "# print(f\"目标价格下的仓位价值: {result['position_value']}\")\n",
    "# print(f\"保证金: {result['margin']}\")\n",
    "print(f\"盈利/亏损: {result['profit_loss']}美元\")\n",
    "#换算成港元\n",
    "print(f\"盈利/亏损: {result['profit_loss']*7.8}港元\")\n",
    "print(f\"盈利/亏损相对本金的百分比: {result['profit_loss_percentage']:.2f}%\")\n",
    "print(f\"爆仓价格: {result['liquidation_price']:.2f}\")\n",
    "print(f\"爆仓百分比: {result['liquidation_percentage'] * 100:.2f}%\")\n"
   ]
  },
  {
   "cell_type": "code",
   "execution_count": null,
   "metadata": {},
   "outputs": [],
   "source": []
  }
 ],
 "metadata": {
  "kernelspec": {
   "display_name": "Python 3",
   "language": "python",
   "name": "python3"
  },
  "language_info": {
   "codemirror_mode": {
    "name": "ipython",
    "version": 3
   },
   "file_extension": ".py",
   "mimetype": "text/x-python",
   "name": "python",
   "nbconvert_exporter": "python",
   "pygments_lexer": "ipython3",
   "version": "3.12.1"
  }
 },
 "nbformat": 4,
 "nbformat_minor": 2
}
