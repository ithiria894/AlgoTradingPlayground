{
 "cells": [
  {
   "cell_type": "code",
   "execution_count": 17,
   "metadata": {},
   "outputs": [],
   "source": [
    "import undetected_chromedriver as uc\n",
    "from selenium.webdriver.common.by import By\n",
    "from selenium.webdriver.support.ui import WebDriverWait\n",
    "from selenium.webdriver.support import expected_conditions as EC\n",
    "from selenium.webdriver.common.keys import Keys\n",
    "\n",
    "url    = 'https://accounts.google.com/ServiceLogin'\n",
    "driver = uc.Chrome(use_subprocess=True)\n",
    "time   = 10\n",
    "# navigate to the Twitter search page\n",
    "driver.get(\"https://chat.openai.com/\")\n",
    "\n",
    "\n",
    "\n",
    "\n"
   ]
  },
  {
   "cell_type": "code",
   "execution_count": null,
   "metadata": {},
   "outputs": [],
   "source": [
    "\n"
   ]
  },
  {
   "cell_type": "code",
   "execution_count": 34,
   "metadata": {},
   "outputs": [
    {
     "name": "stderr",
     "output_type": "stream",
     "text": [
      "<>:55: SyntaxWarning: invalid escape sequence '\\:'\n",
      "<>:55: SyntaxWarning: invalid escape sequence '\\:'\n",
      "C:\\Users\\nicol\\AppData\\Local\\Temp\\ipykernel_56468\\2118444911.py:55: SyntaxWarning: invalid escape sequence '\\:'\n",
      "  div_css_selector = \"div.markdown.prose.w-full.break-words.dark\\:prose-invert.dark\"\n"
     ]
    },
    {
     "name": "stdout",
     "output_type": "stream",
     "text": [
      "8\n",
      "8\n",
      "The result of the expression \"1 + 1\" is 2. If you have any further questions or need as\n"
     ]
    }
   ],
   "source": [
    "def input_text_and_get_div_text(driver, text_to_input, textarea_id, div_css_selector, stop_button_css_selector, submit_button_css_selector):\n",
    "    # Wait for the textarea element to be present\n",
    "    textarea = WebDriverWait(driver, 10).until(\n",
    "        EC.presence_of_element_located((By.ID, textarea_id))\n",
    "    )\n",
    "\n",
    "    # Clear the textarea using JavaScript\n",
    "    driver.execute_script(\"arguments[0].value = '';\", textarea)\n",
    "\n",
    "    # Input text into the textarea using JavaScript to ensure completeness\n",
    "    driver.execute_script(\"arguments[0].value = arguments[1];\", textarea, text_to_input)\n",
    "\n",
    "    # Get the initial count of div elements\n",
    "    initial_div_count = len(driver.find_elements(By.CSS_SELECTOR, div_css_selector))\n",
    "\n",
    "    #print\n",
    "    print(initial_div_count)\n",
    "\n",
    "    # Trigger input event to simulate typing\n",
    "    driver.execute_script(\"var event = new Event('input', { bubbles: true }); arguments[0].dispatchEvent(event);\", textarea)\n",
    "\n",
    "    # Wait for the submit button to be clickable\n",
    "    submit_button = WebDriverWait(driver, 10).until(\n",
    "        EC.element_to_be_clickable((By.CSS_SELECTOR, submit_button_css_selector))\n",
    "    )\n",
    "\n",
    "\n",
    "    # Click the submit button\n",
    "    submit_button.click()\n",
    "\n",
    "    # Wait for the stop button to disappear\n",
    "    WebDriverWait(driver, 30).until(\n",
    "        EC.invisibility_of_element_located((By.CSS_SELECTOR, stop_button_css_selector))\n",
    "    )\n",
    "\n",
    "    #print\n",
    "    print(len(driver.find_elements(By.CSS_SELECTOR, div_css_selector)))\n",
    "    # Wait for the div elements to increase\n",
    "    WebDriverWait(driver, 30).until(\n",
    "        lambda driver: len(driver.find_elements(By.CSS_SELECTOR, div_css_selector)) > initial_div_count\n",
    "    )\n",
    "\n",
    "\n",
    "\n",
    "    # Get the list of div elements\n",
    "    divs = driver.find_elements(By.CSS_SELECTOR, div_css_selector)\n",
    "\n",
    "    # Get the text from the newest div element\n",
    "    newest_text = divs[-1].text\n",
    "\n",
    "    return newest_text\n",
    "\n",
    "# Usage example\n",
    "textarea_id = \"prompt-textarea\"\n",
    "div_css_selector = \"div.markdown.prose.w-full.break-words.dark\\:prose-invert.dark\"\n",
    "stop_button_css_selector = \"button[aria-label='Stop generating']\"\n",
    "submit_button_css_selector = \"button[data-testid='send-button']\"\n",
    "\n",
    "text_to_input = \"1+1=?\"\n",
    "result_text = input_text_and_get_div_text(driver, text_to_input, textarea_id, div_css_selector, stop_button_css_selector, submit_button_css_selector)\n",
    "print(result_text)"
   ]
  },
  {
   "cell_type": "code",
   "execution_count": 35,
   "metadata": {},
   "outputs": [
    {
     "name": "stdout",
     "output_type": "stream",
     "text": [
      "9\n"
     ]
    }
   ],
   "source": [
    "initial_div_count = len(driver.find_elements(By.CSS_SELECTOR, div_css_selector))\n",
    "print(initial_div_count)"
   ]
  }
 ],
 "metadata": {
  "kernelspec": {
   "display_name": "Python 3",
   "language": "python",
   "name": "python3"
  },
  "language_info": {
   "codemirror_mode": {
    "name": "ipython",
    "version": 3
   },
   "file_extension": ".py",
   "mimetype": "text/x-python",
   "name": "python",
   "nbconvert_exporter": "python",
   "pygments_lexer": "ipython3",
   "version": "3.12.1"
  }
 },
 "nbformat": 4,
 "nbformat_minor": 2
}
