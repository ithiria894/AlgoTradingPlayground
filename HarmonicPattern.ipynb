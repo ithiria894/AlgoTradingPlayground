{
 "cells": [
  {
   "cell_type": "code",
   "execution_count": 43,
   "metadata": {},
   "outputs": [
    {
     "name": "stdout",
     "output_type": "stream",
     "text": [
      "Win Rate: 78.10%\n"
     ]
    }
   ],
   "source": [
    "def calculate_win_rate(stopped, total):\n",
    "    if total == 0:\n",
    "        return \"Total cannot be zero.\"\n",
    "    \n",
    "    wins = total - stopped\n",
    "    win_rate = (wins / total) * 100\n",
    "    return f\"Win Rate: {win_rate:.2f}%\"\n",
    "\n",
    "# Input values\n",
    "stopped = 46 # example value for stopped\n",
    "total = 210  # example value for total\n",
    "\n",
    "# Calculate and print the win rate\n",
    "print(calculate_win_rate(stopped, total))\n"
   ]
  },
  {
   "cell_type": "code",
   "execution_count": 16,
   "metadata": {},
   "outputs": [
    {
     "name": "stdout",
     "output_type": "stream",
     "text": [
      "Win Rate: 84.78%\n"
     ]
    }
   ],
   "source": [
    "print(calculate_win_rate(21, 138))"
   ]
  }
 ],
 "metadata": {
  "kernelspec": {
   "display_name": "Python 3",
   "language": "python",
   "name": "python3"
  },
  "language_info": {
   "codemirror_mode": {
    "name": "ipython",
    "version": 3
   },
   "file_extension": ".py",
   "mimetype": "text/x-python",
   "name": "python",
   "nbconvert_exporter": "python",
   "pygments_lexer": "ipython3",
   "version": "3.12.3"
  }
 },
 "nbformat": 4,
 "nbformat_minor": 2
}
