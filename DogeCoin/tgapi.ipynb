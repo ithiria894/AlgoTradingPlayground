{
 "cells": [
  {
   "cell_type": "code",
   "execution_count": 1,
   "metadata": {},
   "outputs": [],
   "source": [
    "import pandas as pd\n",
    "#read it as a dataframe\n",
    "# doge_tweets = pd.read_csv('dogetweets.csv')\n",
    "doge_tweets = pd.read_csv('dogetweets_from20230427to20240304.csv')\n",
    "prompt=\"\"\"\n",
    "    /ask\n",
    "    The following is a tweet about dogecoin, \n",
    "    please perform sentiment analysis on the tweet, classify the tweet as positive, negative, or neutral sentiment,\n",
    "    if it means that the price of dogecoin is relatively high, it is positive sentiment, \n",
    "    if it means that the price of dogecoin is relatively low, it is negative sentiment, \n",
    "    if it is neither, it is neutral sentiment. \n",
    "    and reply to me as the following format: 'Sentiment: ',do not tell me why, only give me 'positive', 'negative', or 'neutral'. \n",
    "    The Tweet Is: \n",
    "    \"\"\"\n"
   ]
  },
  {
   "cell_type": "code",
   "execution_count": 2,
   "metadata": {},
   "outputs": [
    {
     "name": "stderr",
     "output_type": "stream",
     "text": [
      "Task exception was never retrieved\n",
      "future: <Task finished name='Task-8' coro=<main() done, defined at C:\\Users\\nicol\\AppData\\Local\\Temp\\ipykernel_65324\\2956559218.py:12> exception=OperationalError('database is locked')>\n",
      "Traceback (most recent call last):\n",
      "  File \"C:\\Users\\nicol\\AppData\\Local\\Temp\\ipykernel_65324\\2956559218.py\", line 13, in main\n",
      "    async with TelegramClient('my_session', api_id, api_hash) as client:\n",
      "  File \"c:\\Users\\nicol\\AppData\\Local\\Programs\\Python\\Python312\\Lib\\site-packages\\telethon\\client\\auth.py\", line 657, in __aenter__\n",
      "    return await self.start()\n",
      "           ^^^^^^^^^^^^^^^^^^\n",
      "  File \"c:\\Users\\nicol\\AppData\\Local\\Programs\\Python\\Python312\\Lib\\site-packages\\telethon\\client\\auth.py\", line 135, in _start\n",
      "    await self.connect()\n",
      "  File \"c:\\Users\\nicol\\AppData\\Local\\Programs\\Python\\Python312\\Lib\\site-packages\\telethon\\client\\telegrambaseclient.py\", line 555, in connect\n",
      "    self.session.auth_key = self._sender.auth_key\n",
      "    ^^^^^^^^^^^^^^^^^^^^^\n",
      "  File \"c:\\Users\\nicol\\AppData\\Local\\Programs\\Python\\Python312\\Lib\\site-packages\\telethon\\sessions\\sqlite.py\", line 180, in auth_key\n",
      "    self._update_session_table()\n",
      "  File \"c:\\Users\\nicol\\AppData\\Local\\Programs\\Python\\Python312\\Lib\\site-packages\\telethon\\sessions\\sqlite.py\", line 194, in _update_session_table\n",
      "    c.execute('delete from sessions')\n",
      "sqlite3.OperationalError: database is locked\n",
      "Server closed the connection: 0 bytes read on a total of 8 expected bytes\n",
      "Error executing high-level request after reconnect: <class 'sqlite3.OperationalError'>: database is locked\n"
     ]
    }
   ],
   "source": [
    "from telethon import TelegramClient, events\n",
    "import asyncio\n",
    "\n",
    "# Use your own values obtained from https://my.telegram.org/\n",
    "api_id = 21353371\n",
    "api_hash = '3cb76341be34a280b7dcbf3af309add7'\n",
    "\n",
    "# The target group or channel. This can be its username or its invite link.\n",
    "# If it's a private group/channel, you'll need to be a member of it.\n",
    "target = 'https://t.me/+RgrS3-_i06AzNDU1'\n",
    "\n",
    "async def main(MSG,i,doge_tweets):\n",
    "    async with TelegramClient('my_session', api_id, api_hash) as client:\n",
    "        # No need to call start() here since the session is already authenticated\n",
    "        # Sending a message\n",
    "        await client.send_message(target, MSG)\n",
    "\n",
    "        @client.on(events.NewMessage(chats=target))\n",
    "        async def my_event_handler(event):\n",
    "            print(event.raw_text)\n",
    "            received_msg = event.raw_text\n",
    "            doge_tweets.at[i, 'sentiment'] = received_msg\n",
    "\n",
    "\n",
    "        # Listen for new messages\n",
    "        await client.run_until_disconnected()\n",
    "\n",
    "# Adjusting for environments with an existing event loop\n",
    "loop = asyncio.get_event_loop()\n",
    "# MSG=prompt+\"I am a dogecoin fan.\"\n",
    "\n",
    "# for i in range(len(doge_tweets)):\n",
    "i=0\n",
    "content=doge_tweets['text'][i]\n",
    "message = prompt + str(content)\n",
    "if loop.is_running():\n",
    "    loop.create_task(main(message,i,doge_tweets))\n",
    "else:\n",
    "    loop.run_until_complete(main(message,i,doge_tweets))\n"
   ]
  }
 ],
 "metadata": {
  "kernelspec": {
   "display_name": "Python 3",
   "language": "python",
   "name": "python3"
  },
  "language_info": {
   "codemirror_mode": {
    "name": "ipython",
    "version": 3
   },
   "file_extension": ".py",
   "mimetype": "text/x-python",
   "name": "python",
   "nbconvert_exporter": "python",
   "pygments_lexer": "ipython3",
   "version": "3.12.3"
  }
 },
 "nbformat": 4,
 "nbformat_minor": 2
}
