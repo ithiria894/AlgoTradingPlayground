{
 "cells": [
  {
   "cell_type": "code",
   "execution_count": 1,
   "metadata": {},
   "outputs": [],
   "source": [
    "import undetected_chromedriver as uc\n",
    "from selenium.webdriver.common.by import By\n",
    "from selenium.webdriver.support.ui import WebDriverWait\n",
    "from selenium.webdriver.support import expected_conditions as EC\n",
    "from selenium.webdriver.common.keys import Keys\n",
    "\n",
    "url    = 'https://accounts.google.com/ServiceLogin'\n",
    "driver = uc.Chrome(use_subprocess=True)\n",
    "time   = 10\n",
    "# navigate to the Twitter search page\n",
    "driver.get(\"https://web.telegram.org/k/#@QueryMeBot\")\n",
    "\n",
    "\n",
    "\n",
    "\n"
   ]
  },
  {
   "cell_type": "code",
   "execution_count": null,
   "metadata": {},
   "outputs": [],
   "source": [
    "\n",
    "<div class=\"input-message-input is-empty scrollable scrollable-y no-scrollbar\" contenteditable=\"true\" dir=\"auto\" tabindex=\"-1\" data-peer-id=\"6161607063\" style=\"transition-duration: 0ms; height: 37px;\"></div>"
   ]
  },
  {
   "cell_type": "code",
   "execution_count": null,
   "metadata": {},
   "outputs": [],
   "source": [
    "<div class=\"message spoilers-container\" dir=\"auto\"><div class=\"reply quote-like quote-like-hoverable quote-like-border rp\" dir=\"auto\" style=\"--peer-color-rgb: var(--peer-1-color-rgb); --peer-border-background: var(--peer-1-border-background);\"><div class=\"c-ripple\"></div><div class=\"reply-content\"><div class=\"reply-title\" dir=\"auto\"><span class=\"peer-title\" dir=\"auto\" data-peer-id=\"5483221129\" data-dialog=\"0\" data-only-first-name=\"0\" data-plain-text=\"0\" data-from-name=\"0\">東京社畜</span></div><div class=\"reply-subtitle\" dir=\"auto\">/start</div></div></div>Hi! I'm QueryMe GPT, your AI assistant! Ask me any question and I'll answer to the best of my abilities. Try <a href=\"tg://bot_command?command=ask\" onclick=\"execBotCommand(this)\">/ask</a> and <a href=\"tg://bot_command?command=chat\" onclick=\"execBotCommand(this)\">/chat</a> followed by your question to get started!\n",
    "\n",
    "<em><img src=\"assets/img/emoji/2757.png\" class=\"emoji emoji-image\" alt=\"❗\"><img src=\"assets/img/emoji/2757.png\" class=\"emoji emoji-image\" alt=\"❗\"> To use this bot, you need to join the official QueryMe announcement channel: </em><a class=\"anchor-url\" href=\"https://t.me/querymeGPT\" onclick=\"im(this)\"><em>https://t.me/querymeGPT</em></a><em> <img src=\"assets/img/emoji/2757.png\" class=\"emoji emoji-image\" alt=\"❗\"><img src=\"assets/img/emoji/2757.png\" class=\"emoji emoji-image\" alt=\"❗\"></em>\n",
    "\n",
    "<strong>Commands:</strong>\n",
    "<a href=\"tg://bot_command?command=ask\" onclick=\"execBotCommand(this)\">/ask</a> [question] - Ask a question. Eg: <a href=\"tg://bot_command?command=ask\" onclick=\"execBotCommand(this)\">/ask</a> what is the average temperature in LA?\n",
    "<a href=\"tg://bot_command?command=chat\" onclick=\"execBotCommand(this)\">/chat</a> [question] - Similar to <a href=\"tg://bot_command?command=ask\" onclick=\"execBotCommand(this)\">/ask</a>, but with memory of previous conversations. Eg: <a href=\"tg://bot_command?command=chat\" onclick=\"execBotCommand(this)\">/chat</a> how much does a Big Mac cost in New York?<span class=\"time\"><span class=\"i18n\" dir=\"auto\">08:04</span><div class=\"time-inner\" title=\"10 March 2024, 08:04:26\"><span class=\"i18n\" dir=\"auto\">08:04</span></div></span></div>"
   ]
  },
  {
   "cell_type": "code",
   "execution_count": 34,
   "metadata": {},
   "outputs": [
    {
     "name": "stderr",
     "output_type": "stream",
     "text": [
      "<>:55: SyntaxWarning: invalid escape sequence '\\:'\n",
      "<>:55: SyntaxWarning: invalid escape sequence '\\:'\n",
      "C:\\Users\\nicol\\AppData\\Local\\Temp\\ipykernel_56468\\2118444911.py:55: SyntaxWarning: invalid escape sequence '\\:'\n",
      "  div_css_selector = \"div.markdown.prose.w-full.break-words.dark\\:prose-invert.dark\"\n"
     ]
    },
    {
     "name": "stdout",
     "output_type": "stream",
     "text": [
      "8\n",
      "8\n",
      "The result of the expression \"1 + 1\" is 2. If you have any further questions or need as\n"
     ]
    }
   ],
   "source": [
    "def input_text_and_get_div_text(driver, text_to_input, textarea_id, div_css_selector, stop_button_css_selector, submit_button_css_selector):\n",
    "    # Wait for the textarea element to be present\n",
    "    textarea = WebDriverWait(driver, 10).until(\n",
    "        EC.presence_of_element_located((By.ID, textarea_id))\n",
    "    )\n",
    "\n",
    "    # Clear the textarea using JavaScript\n",
    "    driver.execute_script(\"arguments[0].value = '';\", textarea)\n",
    "\n",
    "    # Input text into the textarea using JavaScript to ensure completeness\n",
    "    driver.execute_script(\"arguments[0].value = arguments[1];\", textarea, text_to_input)\n",
    "\n",
    "    # Get the initial count of div elements\n",
    "    initial_div_count = len(driver.find_elements(By.CSS_SELECTOR, div_css_selector))\n",
    "\n",
    "    #print\n",
    "    print(initial_div_count)\n",
    "\n",
    "    # Trigger input event to simulate typing\n",
    "    driver.execute_script(\"var event = new Event('input', { bubbles: true }); arguments[0].dispatchEvent(event);\", textarea)\n",
    "\n",
    "    # Wait for the submit button to be clickable\n",
    "    submit_button = WebDriverWait(driver, 10).until(\n",
    "        EC.element_to_be_clickable((By.CSS_SELECTOR, submit_button_css_selector))\n",
    "    )\n",
    "\n",
    "\n",
    "    # Click the submit button\n",
    "    submit_button.click()\n",
    "\n",
    "    # Wait for the stop button to disappear\n",
    "    WebDriverWait(driver, 30).until(\n",
    "        EC.invisibility_of_element_located((By.CSS_SELECTOR, stop_button_css_selector))\n",
    "    )\n",
    "\n",
    "    #print\n",
    "    print(len(driver.find_elements(By.CSS_SELECTOR, div_css_selector)))\n",
    "    # Wait for the div elements to increase\n",
    "    WebDriverWait(driver, 30).until(\n",
    "        lambda driver: len(driver.find_elements(By.CSS_SELECTOR, div_css_selector)) > initial_div_count\n",
    "    )\n",
    "\n",
    "\n",
    "\n",
    "    # Get the list of div elements\n",
    "    divs = driver.find_elements(By.CSS_SELECTOR, div_css_selector)\n",
    "\n",
    "    # Get the text from the newest div element\n",
    "    newest_text = divs[-1].text\n",
    "\n",
    "    return newest_text\n",
    "\n",
    "# Usage example\n",
    "textarea_id = \"prompt-textarea\"\n",
    "div_css_selector = \"div.markdown.prose.w-full.break-words.dark\\:prose-invert.dark\"\n",
    "stop_button_css_selector = \"button[aria-label='Stop generating']\"\n",
    "submit_button_css_selector = \"button[data-testid='send-button']\"\n",
    "\n",
    "text_to_input = \"1+1=?\"\n",
    "result_text = input_text_and_get_div_text(driver, text_to_input, textarea_id, div_css_selector, stop_button_css_selector, submit_button_css_selector)\n",
    "print(result_text)"
   ]
  },
  {
   "cell_type": "code",
   "execution_count": 35,
   "metadata": {},
   "outputs": [
    {
     "name": "stdout",
     "output_type": "stream",
     "text": [
      "9\n"
     ]
    }
   ],
   "source": [
    "initial_div_count = len(driver.find_elements(By.CSS_SELECTOR, div_css_selector))\n",
    "print(initial_div_count)"
   ]
  }
 ],
 "metadata": {
  "kernelspec": {
   "display_name": "Python 3",
   "language": "python",
   "name": "python3"
  },
  "language_info": {
   "codemirror_mode": {
    "name": "ipython",
    "version": 3
   },
   "file_extension": ".py",
   "mimetype": "text/x-python",
   "name": "python",
   "nbconvert_exporter": "python",
   "pygments_lexer": "ipython3",
   "version": "3.12.1"
  }
 },
 "nbformat": 4,
 "nbformat_minor": 2
}
