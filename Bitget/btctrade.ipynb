{
 "cells": [
  {
   "cell_type": "code",
   "execution_count": 10,
   "metadata": {},
   "outputs": [
    {
     "name": "stdout",
     "output_type": "stream",
     "text": [
      "The current price of BTCUSD is $62624.5\n"
     ]
    }
   ],
   "source": [
    "import requests\n",
    "\n",
    "def get_bybit_price(symbol):\n",
    "    url = f\"https://api.bybit.com/v2/public/tickers?symbol={symbol.upper()}\"\n",
    "    try:\n",
    "        response = requests.get(url)\n",
    "        data = response.json()\n",
    "        if data['ret_msg'] == \"OK\":\n",
    "            price = float(data['result'][0]['last_price'])\n",
    "            return price\n",
    "        else:\n",
    "            print(f\"Error: {data['ret_msg']}\")\n",
    "            return None\n",
    "    except Exception as e:\n",
    "        print(f\"Error fetching data: {str(e)}\")\n",
    "        return None\n",
    "\n",
    "if __name__ == \"__main__\":\n",
    "    symbol = \"BTCUSD\"\n",
    "    price = get_bybit_price(symbol)\n",
    "    if price is not None:\n",
    "        print(f\"The current price of {symbol.upper()} is ${price}\")\n"
   ]
  },
  {
   "cell_type": "code",
   "execution_count": 8,
   "metadata": {},
   "outputs": [
    {
     "name": "stdout",
     "output_type": "stream",
     "text": [
      "The current price of BTCUSDT perpetual contract is $62895.6\n"
     ]
    }
   ],
   "source": [
    "import requests\n",
    "\n",
    "def get_binance_perpetual_price(symbol):\n",
    "    url = f\"https://fapi.binance.com/fapi/v1/ticker/price?symbol={symbol.upper()}\"\n",
    "    try:\n",
    "        response = requests.get(url)\n",
    "        data = response.json()\n",
    "        price = float(data['price'])\n",
    "        return price\n",
    "    except Exception as e:\n",
    "        print(f\"Error fetching data: {str(e)}\")\n",
    "        return None\n",
    "\n",
    "if __name__ == \"__main__\":\n",
    "    symbol = \"btcusdt\"\n",
    "    price = get_binance_perpetual_price(symbol)\n",
    "    if price is not None:\n",
    "        print(f\"The current price of {symbol.upper()} perpetual contract is ${price}\")\n"
   ]
  },
  {
   "cell_type": "code",
   "execution_count": null,
   "metadata": {},
   "outputs": [],
   "source": [
    "APIkey=\"bg_b9ff9aba72b0359c8a147a68aceca03c\"\n",
    "SecretKey=\"47fa8e692a356d2411be0956a2bc2466da18da0c43f58a38e62f64663a7686a3\""
   ]
  },
  {
   "cell_type": "code",
   "execution_count": null,
   "metadata": {},
   "outputs": [],
   "source": [
    "import requests\n",
    "import json\n",
    "import hashlib\n",
    "import hmac\n",
    "import time\n",
    "\n",
    "# Bitget API credentials\n",
    "API_KEY = APIkey\n",
    "API_SECRET = SecretKey\n",
    "\n",
    "# Constants\n",
    "BASE_URL = 'https://api.bitget.com'\n",
    "TRADE_ENDPOINT = '/api/v1/swap/order/place'\n",
    "\n",
    "# Function to create a signature for the request\n",
    "def generate_signature(params):\n",
    "    query_string = '&'.join([f\"{k}={v}\" for k, v in params.items()])\n",
    "    return hmac.new(API_SECRET.encode('utf-8'), query_string.encode('utf-8'), hashlib.sha256).hexdigest()\n",
    "\n",
    "# Function to place a market order\n",
    "def place_market_order(symbol, side, quantity):\n",
    "    timestamp = int(time.time() * 1000)\n",
    "    params = {\n",
    "        'symbol': symbol,\n",
    "        'order_type': '1',  # Market order\n",
    "        'side': side,\n",
    "        'price': '0',  # For market order, price can be set as 0\n",
    "        'quantity': quantity,\n",
    "        'time': timestamp,\n",
    "        'recvWindow': 5000,  # Optional, adjust as needed\n",
    "    }\n",
    "    headers = {\n",
    "        'Content-Type': 'application/json',\n",
    "        'ACCESS-KEY': API_KEY\n",
    "    }\n",
    "    signature = generate_signature(params)\n",
    "    params['sign'] = signature\n",
    "    response = requests.post(BASE_URL + TRADE_ENDPOINT, headers=headers, data=json.dumps(params))\n",
    "    return response.json()\n",
    "\n",
    "# Example usage\n",
    "if __name__ == '__main__':\n",
    "    symbol = 'BTCUSD_PERP'\n",
    "    side = '1'  # 1 for buy, 2 for sell\n",
    "    quantity = '0.001'  # Adjust the quantity as needed\n",
    "    response = place_market_order(symbol, side, quantity)\n",
    "    print(response)\n"
   ]
  }
 ],
 "metadata": {
  "kernelspec": {
   "display_name": "Python 3",
   "language": "python",
   "name": "python3"
  },
  "language_info": {
   "codemirror_mode": {
    "name": "ipython",
    "version": 3
   },
   "file_extension": ".py",
   "mimetype": "text/x-python",
   "name": "python",
   "nbconvert_exporter": "python",
   "pygments_lexer": "ipython3",
   "version": "3.12.1"
  }
 },
 "nbformat": 4,
 "nbformat_minor": 2
}
