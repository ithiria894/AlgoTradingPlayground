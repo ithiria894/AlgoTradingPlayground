{
 "cells": [
  {
   "cell_type": "code",
   "execution_count": 9,
   "metadata": {},
   "outputs": [
    {
     "name": "stdout",
     "output_type": "stream",
     "text": [
      "倉位價值: 400\n",
      "Profit/Loss: -19.631901840490798\n"
     ]
    }
   ],
   "source": [
    "def calculate_profit_loss(current_price, initial_capital, leverage, stopLossPrice):\n",
    "    # Calculate stop loss price\n",
    "    # stopLossPrice = current_price - price_difference\n",
    "\n",
    "    # Calculate effective capital\n",
    "    effective_capital = initial_capital * leverage\n",
    "\n",
    "    print(\"倉位價值:\", effective_capital)\n",
    "\n",
    "    # Calculate position value\n",
    "    position_value = effective_capital / current_price\n",
    "\n",
    "    損失額 = current_price-stopLossPrice\n",
    "\n",
    "    # Calculate profit or loss\n",
    "    profit_loss = position_value * (-1)*(current_price-stopLossPrice)\n",
    "    # profit_loss= profit_loss/leverage\n",
    "    \n",
    "    return profit_loss\n",
    "\n",
    "# Example usage\n",
    "current_price = 0.006520# example value\n",
    "# price_difference = 0.01583  # example value\n",
    "stopLossPrice=0.0062\n",
    "initial_capital = 20  # example value\n",
    "leverage = 20  # example value\n",
    "\n",
    "\n",
    "profit_loss = calculate_profit_loss(current_price, initial_capital, leverage, stopLossPrice)\n",
    "print(\"Profit/Loss:\", profit_loss)\n"
   ]
  },
  {
   "cell_type": "code",
   "execution_count": 13,
   "metadata": {},
   "outputs": [
    {
     "name": "stdout",
     "output_type": "stream",
     "text": [
      "Initial Capital: 21.371932032724985\n"
     ]
    }
   ],
   "source": [
    "def calculate_initial_capital(profit_loss, current_price, price_difference, leverage):\n",
    "    # Calculate stop loss price\n",
    "    stop_loss_price = current_price - price_difference\n",
    "    \n",
    "    profit_loss = profit_loss * leverage\n",
    "\n",
    "    position_value =profit_loss / ((-1)*(price_difference))\n",
    "    \n",
    "    # Calculate effective capital\n",
    "    effective_capital = position_value * current_price\n",
    "    \n",
    "    # Calculate initial capital\n",
    "    initial_capital = effective_capital / leverage\n",
    "    \n",
    "    return initial_capital\n",
    "\n",
    "# Example usage\n",
    "profit_loss = -20  # example value\n",
    "current_price = 0.0006792  # example value\n",
    "price_difference = 0.0006356  # example value\n",
    "leverage = 20  # example value\n",
    "\n",
    "initial_capital = calculate_initial_capital(profit_loss, current_price, price_difference, leverage)\n",
    "print(\"Initial Capital:\", initial_capital)\n"
   ]
  }
 ],
 "metadata": {
  "kernelspec": {
   "display_name": "Python 3",
   "language": "python",
   "name": "python3"
  },
  "language_info": {
   "codemirror_mode": {
    "name": "ipython",
    "version": 3
   },
   "file_extension": ".py",
   "mimetype": "text/x-python",
   "name": "python",
   "nbconvert_exporter": "python",
   "pygments_lexer": "ipython3",
   "version": "3.12.3"
  }
 },
 "nbformat": 4,
 "nbformat_minor": 2
}
